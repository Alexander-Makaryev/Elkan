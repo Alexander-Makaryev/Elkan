{
 "cells": [
  {
   "cell_type": "markdown",
   "metadata": {},
   "source": [
    "# Attantion!\n",
    "This is modified file. There are some insrerts in the document.\n",
    "To run correctly, you need to install the elkan module."
   ]
  },
  {
   "cell_type": "markdown",
   "metadata": {},
   "source": [
    "Use the command:\n",
    "pip install dir"
   ]
  },
  {
   "cell_type": "markdown",
   "metadata": {},
   "source": [
    "dir is the directory of source files and this document."
   ]
  },
  {
   "cell_type": "markdown",
   "metadata": {},
   "source": [
    "# Problem statement"
   ]
  },
  {
   "cell_type": "markdown",
   "metadata": {},
   "source": [
    "Write native Python extension module, say `elkan`, that implements iterative solution to k-means problem using algorithm from \n",
    "Charles Elkan, \"Using the triangle inequality to accelerate k-means.\" Article PDF is available via https://www.aaai.org/Papers/ICML/2003/ICML03-022.pdf"
   ]
  },
  {
   "cell_type": "markdown",
   "metadata": {},
   "source": [
    "The native extension should expose a C/C++ implementation of iterative algorithm. Its inputs are an $(n,p)$ matrix of $n$ points from $\\mathbb{R}^p$, number of clusters $n_c$, a $(c,p)$ matrix of coordinates for starting center of clusters, the convergence threshold $\\epsilon$, and a maximal number of iterations."
   ]
  },
  {
   "cell_type": "markdown",
   "metadata": {},
   "source": [
    "Native extension should allow for matrix inputs to be NumPy arrays. All inputs coordinates are expected to be in double precision."
   ]
  },
  {
   "cell_type": "markdown",
   "metadata": {},
   "source": [
    "The native extension should return a tuple with coordinate centers as an matrix of dimensions $(c,p)$ and a vector of length $n$ with label assignments for each input datapoint, and the number of iterations performed."
   ]
  },
  {
   "cell_type": "markdown",
   "metadata": {},
   "source": [
    "You may use SWIG or Cython to generate the native extension, process arguments, call your C/C++ implementation, and return the result back to Python."
   ]
  },
  {
   "cell_type": "markdown",
   "metadata": {},
   "source": [
    "Compare performance of your implementation with performance of a reference implementation."
   ]
  },
  {
   "cell_type": "markdown",
   "metadata": {},
   "source": [
    "# An example of the test"
   ]
  },
  {
   "cell_type": "code",
   "execution_count": 48,
   "metadata": {},
   "outputs": [],
   "source": [
    "import elkan # import your module"
   ]
  },
  {
   "cell_type": "code",
   "execution_count": 49,
   "metadata": {},
   "outputs": [],
   "source": [
    "import numpy as np  # import numpy"
   ]
  },
  {
   "cell_type": "code",
   "execution_count": 50,
   "metadata": {},
   "outputs": [],
   "source": [
    "def cuboidal_p(idx, p):\n",
    "    \"\"\"Generate points of cuboidal level surfaces by its index\"\"\"\n",
    "    per_level = 2 ** p\n",
    "    radius = ((idx // per_level) + 1)\n",
    "    rem = idx % per_level\n",
    "    digits = [ -radius ] * p\n",
    "    i = -1\n",
    "    while(rem > 0):\n",
    "        digits[-i] = radius * (2 * (rem % 2) - 1)\n",
    "        rem = rem // 2\n",
    "        i += 1\n",
    "    return np.asarray(digits)"
   ]
  },
  {
   "cell_type": "code",
   "execution_count": 51,
   "metadata": {},
   "outputs": [],
   "source": [
    "# generate n points in p-dimensional space with given clusters\n",
    "(n, p, cl) = (100, 4, 5)\n",
    "disps = np.array([ cuboidal_p(idx, p) for idx in range(cl)])"
   ]
  },
  {
   "cell_type": "code",
   "execution_count": 52,
   "metadata": {},
   "outputs": [],
   "source": [
    "# assign points to clusters randomly\n",
    "np.random.seed(1234567)\n",
    "cl_idx = np.random.choice(cl, size=n)\n",
    "points = np.random.rand(n, p) + np.take(disps, cl_idx, axis=0)"
   ]
  },
  {
   "cell_type": "code",
   "execution_count": 53,
   "metadata": {},
   "outputs": [],
   "source": [
    "import matplotlib.pyplot as plt\n",
    "from sklearn.manifold import TSNE"
   ]
  },
  {
   "cell_type": "code",
   "execution_count": 54,
   "metadata": {},
   "outputs": [],
   "source": [
    "# embed p-dimensional points onto a plane while preserving relative distances for viz. purposes.\n",
    "(x, y) = TSNE().fit_transform(points).T"
   ]
  },
  {
   "cell_type": "code",
   "execution_count": 55,
   "metadata": {
    "scrolled": true
   },
   "outputs": [
    {
     "data": {
      "image/png": "[encoded data removed]",
      "text/plain": [
       "<Figure size 432x288 with 1 Axes>"
      ]
     },
     "metadata": {},
     "output_type": "display_data"
    }
   ],
   "source": [
    "plt.scatter(x, y)\n",
    "plt.show()"
   ]
  },
  {
   "cell_type": "markdown",
   "metadata": {},
   "source": [
    "K-means gives only the local minimum. The result and the execution time depend strongly on the initial conditions. That's why we need to give the same initial cluster centers. An easy way to get them is to take points from input data."
   ]
  },
  {
   "cell_type": "code",
   "execution_count": 56,
   "metadata": {},
   "outputs": [],
   "source": [
    "sPoints = points[:cl,:]"
   ]
  },
  {
   "cell_type": "markdown",
   "metadata": {},
   "source": [
    "We also need threshold and maxIterationsCount parameters. An explanation of the threshold is given at the end of this document."
   ]
  },
  {
   "cell_type": "code",
   "execution_count": 57,
   "metadata": {},
   "outputs": [],
   "source": [
    "# threshold = 2.22507e-308\n",
    "threshold = 1e-16\n",
    "maxIterationsCount = 300"
   ]
  },
  {
   "cell_type": "markdown",
   "metadata": {},
   "source": [
    "Import \"time\" to detect the execution tome."
   ]
  },
  {
   "cell_type": "code",
   "execution_count": 58,
   "metadata": {},
   "outputs": [],
   "source": [
    "import time"
   ]
  },
  {
   "cell_type": "markdown",
   "metadata": {},
   "source": [
    "Use scikit-learn to compute clusters, and visualize that they agree with data"
   ]
  },
  {
   "cell_type": "code",
   "execution_count": 59,
   "metadata": {},
   "outputs": [],
   "source": [
    "from sklearn.cluster import KMeans"
   ]
  },
  {
   "cell_type": "code",
   "execution_count": 60,
   "metadata": {},
   "outputs": [
    {
     "data": {
      "image/png": "[encoded data removed]",
      "text/plain": [
       "<Figure size 432x288 with 1 Axes>"
      ]
     },
     "metadata": {},
     "output_type": "display_data"
    }
   ],
   "source": [
    "elkanTime = time.time()\n",
    "elkan_km = KMeans(algorithm='elkan', init=sPoints, n_clusters=cl, n_init=1, tol=threshold,\n",
    "            max_iter=maxIterationsCount).fit(points)\n",
    "elkanTime = time.time() - elkanTime\n",
    "\n",
    "(xx, yy) = TSNE().fit_transform(np.vstack((points, elkan_km.cluster_centers_))).T\n",
    "\n",
    "plt.scatter(xx[:n], yy[:n], s=10, marker=\"o\", label='first')\n",
    "plt.scatter(xx[n:], yy[n:], s=10, marker=\"o\", label='second')\n",
    "plt.legend(loc='upper right');\n",
    "plt.show()\n"
   ]
  },
  {
   "cell_type": "markdown",
   "metadata": {},
   "source": [
    "Your example should be able to replicate this behavior."
   ]
  },
  {
   "cell_type": "markdown",
   "metadata": {},
   "source": [
    "Now we replicate this behavior for the full algorithm and our implementation of the Elkan algorithm. Then compare the results and the execution time."
   ]
  },
  {
   "cell_type": "code",
   "execution_count": 61,
   "metadata": {},
   "outputs": [
    {
     "name": "stdout",
     "output_type": "stream",
     "text": [
      "Are the cluster centers in our algorithm and in the elkan the same? True\n",
      "Are the labels in our algorithm and in the elkan the same? True\n",
      "Are the cluster centers in our algorithm and in the full the same? True\n",
      "Are the labels in our algorithm and in the full the same? True\n",
      "0.0010001659393310547 myTime\n",
      "0.0020003318786621094 elkanTime\n",
      "0.003999948501586914 fullTime\n"
     ]
    }
   ],
   "source": [
    "fullTime = time.time()\n",
    "full_km = KMeans(algorithm='full', init=sPoints, n_clusters=cl, n_init=1, tol=threshold,\n",
    "            max_iter=maxIterationsCount).fit(points)\n",
    "fullTime = time.time() - fullTime\n",
    "\n",
    "myTime = time.time()\n",
    "(centers, pLabels, iCount, isEmptyCluster) = elkan.execute(p, n, points, cl, sPoints,\n",
    "                                                           threshold, maxIterationsCount)\n",
    "myTime = time.time() - myTime\n",
    "\n",
    "print('Are the cluster centers in our algorithm and in the elkan the same?',\n",
    "      np.allclose(elkan_km.cluster_centers_, centers))\n",
    "print('Are the labels in our algorithm and in the elkan the same?',\n",
    "      np.array_equal(elkan_km.labels_, pLabels))\n",
    "print('Are the cluster centers in our algorithm and in the full the same?',\n",
    "      np.allclose(full_km.cluster_centers_, centers))\n",
    "print('Are the labels in our algorithm and in the full the same?',\n",
    "      np.array_equal(full_km.labels_, pLabels))\n",
    "\n",
    "print(myTime ,'myTime')\n",
    "print(elkanTime ,'elkanTime')\n",
    "print(fullTime ,'fullTime')"
   ]
  },
  {
   "cell_type": "markdown",
   "metadata": {},
   "source": [
    "# Changing the parameters in the range\n",
    "Now we try to execute algorithms with different parameters and compare the results. To get results when the Elkan algorithm is faster than the full algorithm, we need to select large parameters. But with large parameters, the calculations take a long time, be prepared to wait. In the example below, the parameters are not large."
   ]
  },
  {
   "cell_type": "code",
   "execution_count": 45,
   "metadata": {},
   "outputs": [
    {
     "name": "stdout",
     "output_type": "stream",
     "text": [
      "100 4 5 False\n",
      "100 4 55 False\n",
      "100 9 5 False\n",
      "100 9 55 False\n",
      "100 14 5 False\n",
      "100 14 55 False\n",
      "100 19 5 False\n",
      "100 19 55 False\n",
      "200 4 5 False\n",
      "200 4 55 False\n",
      "200 4 105 False\n",
      "200 4 155 False\n",
      "200 9 5 False\n",
      "200 9 55 False\n",
      "200 9 105 False\n",
      "200 9 155 False\n",
      "200 14 5 False\n",
      "200 14 55 False\n",
      "200 14 105 False\n",
      "200 14 155 False\n",
      "200 19 5 False\n",
      "200 19 55 False\n",
      "200 19 105 False\n",
      "200 19 155 False\n",
      "300 4 5 False\n",
      "300 4 55 False\n",
      "300 4 105 True\n",
      "300 4 155 False\n",
      "300 4 205 False\n",
      "300 4 255 False\n",
      "300 9 5 False\n",
      "300 9 55 False\n",
      "300 9 105 False\n",
      "300 9 155 False\n",
      "300 9 205 False\n",
      "300 9 255 False\n",
      "300 14 5 False\n",
      "300 14 55 False\n",
      "300 14 105 False\n",
      "300 14 155 False\n",
      "300 14 205 False\n",
      "300 14 255 False\n",
      "300 19 5 False\n",
      "300 19 55 False\n",
      "300 19 105 False\n",
      "300 19 155 False\n",
      "300 19 205 False\n",
      "300 19 255 False\n",
      "400 4 5 False\n",
      "400 4 55 False\n",
      "400 4 105 False\n",
      "400 4 155 False\n",
      "400 4 205 False\n",
      "400 4 255 False\n",
      "400 4 305 False\n",
      "400 4 355 False\n",
      "400 9 5 False\n",
      "400 9 55 False\n",
      "400 9 105 False\n",
      "400 9 155 False\n",
      "400 9 205 False\n",
      "400 9 255 False\n",
      "400 9 305 False\n",
      "400 9 355 False\n",
      "400 14 5 False\n",
      "400 14 55 False\n",
      "400 14 105 False\n",
      "400 14 155 False\n",
      "400 14 205 False\n",
      "400 14 255 False\n",
      "400 14 305 False\n",
      "400 14 355 False\n",
      "400 19 5 False\n",
      "400 19 55 False\n",
      "400 19 105 False\n",
      "400 19 155 False\n",
      "400 19 205 False\n",
      "400 19 255 False\n",
      "400 19 305 False\n",
      "400 19 355 False\n",
      "500 4 5 False\n",
      "500 4 55 False\n",
      "500 4 105 False\n",
      "500 4 155 True\n",
      "500 4 205 False\n",
      "500 4 255 True\n",
      "500 4 305 False\n",
      "500 4 355 False\n",
      "500 4 405 False\n",
      "500 4 455 False\n",
      "500 9 5 False\n",
      "500 9 55 False\n",
      "500 9 105 False\n",
      "500 9 155 False\n",
      "500 9 205 False\n",
      "500 9 255 False\n",
      "500 9 305 False\n",
      "500 9 355 False\n",
      "500 9 405 False\n",
      "500 9 455 False\n",
      "500 14 5 False\n",
      "500 14 55 False\n",
      "500 14 105 False\n",
      "500 14 155 False\n",
      "500 14 205 False\n",
      "500 14 255 False\n",
      "500 14 305 False\n",
      "500 14 355 False\n",
      "500 14 405 False\n",
      "500 14 455 False\n",
      "500 19 5 False\n",
      "500 19 55 False\n",
      "500 19 105 False\n",
      "500 19 155 False\n",
      "500 19 205 False\n",
      "500 19 255 False\n",
      "500 19 305 False\n",
      "500 19 355 False\n",
      "500 19 405 False\n",
      "500 19 455 False\n",
      "-----------------------------------------------\n",
      "0.4930281639099121 myTimeTotal\n",
      "2.0371155738830566 elkanTimeTotal\n",
      "0.9990577697753906 fullTimeTotal\n",
      "-----------------------------------------------\n"
     ]
    }
   ],
   "source": [
    "myTimeTotal = 0.0\n",
    "elkanTimeTotal = 0.0\n",
    "fullTimeTotal = 0.0\n",
    "for i_n in range(100, 600, 100):\n",
    "    for i_p in range(4, 20, 5):\n",
    "        for i_cl in range(5, i_n, 50):\n",
    "            (n, p, cl) = (i_n, i_p, i_cl)\n",
    "            disps = np.array([ cuboidal_p(idx, p) for idx in range(cl)])\n",
    "            np.random.seed(1234567)\n",
    "            cl_idx = np.random.choice(cl, size=n)\n",
    "            points = np.random.rand(n, p) + np.take(disps, cl_idx, axis=0)\n",
    "            sPoints = points[:cl,:]\n",
    "\n",
    "            myTime = time.time()\n",
    "            (centers, pLabels, iCount, isEmptyCluster) = elkan.execute(p, n, points, cl, sPoints,\n",
    "                                                                       threshold, maxIterationsCount)\n",
    "            myTime = time.time() - myTime\n",
    "            print(n, p, cl, isEmptyCluster)\n",
    "            # We dont know what is the algorithm for empty clusters is used in sklearn\n",
    "            # without the same algorithm we will get different results and execution time\n",
    "            if(not(isEmptyCluster)):\n",
    "                elkanTime = time.time()\n",
    "                elkan_km = KMeans(algorithm='elkan', init=sPoints, n_clusters=cl,\n",
    "                                  n_init=1, tol=threshold, max_iter=maxIterationsCount,\n",
    "                                  precompute_distances=False, n_jobs=1).fit(points)\n",
    "                elkanTime = time.time() - elkanTime\n",
    "\n",
    "                fullTime = time.time()\n",
    "                full_km = KMeans(algorithm='full', init=sPoints, n_clusters=cl,\n",
    "                                 n_init=1, tol=threshold, max_iter=maxIterationsCount,\n",
    "                                 precompute_distances=False, n_jobs=1).fit(points)\n",
    "                fullTime = time.time() - fullTime\n",
    "                # print(myTime, 'myTime')\n",
    "                # print(elkanTime, 'elkanTime')\n",
    "                # print(fullTime, 'fullTime')\n",
    "                \n",
    "                myTimeTotal = myTimeTotal + myTime\n",
    "                elkanTimeTotal = elkanTimeTotal + elkanTime\n",
    "                fullTimeTotal = fullTimeTotal + fullTime\n",
    "                \n",
    "                if(not(np.allclose(elkan_km.cluster_centers_, centers)) or\n",
    "                  not(np.array_equal(elkan_km.labels_, pLabels)) or\n",
    "                  not(np.allclose(full_km.cluster_centers_, centers)) or\n",
    "                  not(np.array_equal(full_km.labels_, pLabels))\n",
    "                  ):\n",
    "                    print('Error on values n =', n, 'p =', p, 'cl =', cl)\n",
    "                    print('Are the cluster centers in our algorithm and in the elkan the same?',\n",
    "                          np.allclose(elkan_km.cluster_centers_, centers))\n",
    "                    print('Are the labels in our algorithm and in the elkan the same?',\n",
    "                          np.array_equal(elkan_km.labels_, pLabels))\n",
    "                    print('Are the cluster centers in our algorithm and in the full the same?',\n",
    "                          np.allclose(full_km.cluster_centers_, centers))\n",
    "                    print('Are the labels in our algorithm and in the full the same?',\n",
    "                          np.array_equal(full_km.labels_, pLabels))\n",
    "                    \n",
    "print('-----------------------------------------------')\n",
    "print(myTimeTotal, 'myTimeTotal')\n",
    "print(elkanTimeTotal, 'elkanTimeTotal')\n",
    "print(fullTimeTotal, 'fullTimeTotal')\n",
    "print('-----------------------------------------------')"
   ]
  },
  {
   "cell_type": "markdown",
   "metadata": {},
   "source": [
    "# Tolerance issue\n",
    "Tolerance (the \"tol\" parameter) in elkan and full algorithms is different.\n",
    "The next example show it."
   ]
  },
  {
   "cell_type": "code",
   "execution_count": 46,
   "metadata": {},
   "outputs": [
    {
     "name": "stdout",
     "output_type": "stream",
     "text": [
      "Are the cluster centers the same? False\n",
      "Are the labels the same? False\n"
     ]
    }
   ],
   "source": [
    "(n, p, cl) = (2000, 2, 423)\n",
    "disps = np.array([ cuboidal_p(idx, p) for idx in range(cl)])\n",
    "np.random.seed(1234567)\n",
    "cl_idx = np.random.choice(cl, size=n)\n",
    "points = np.random.rand(n, p) + np.take(disps, cl_idx, axis=0)\n",
    "\n",
    "sPoints = points[:cl,:]\n",
    "threshold = 1e-4\n",
    "\n",
    "elkan_km = KMeans(init=sPoints, algorithm='elkan', n_clusters=cl, tol=threshold, n_init=1).fit(points)\n",
    "full_km = KMeans(init=sPoints, algorithm='full', n_clusters=cl, tol=threshold, n_init=1).fit(points)\n",
    "\n",
    "print('Are the cluster centers the same?', np.allclose(elkan_km.cluster_centers_, full_km.cluster_centers_))\n",
    "print('Are the labels the same?', np.array_equal(elkan_km.labels_, full_km.labels_))"
   ]
  },
  {
   "cell_type": "markdown",
   "metadata": {},
   "source": [
    "If we reduce tol, the results will be the same."
   ]
  },
  {
   "cell_type": "code",
   "execution_count": 47,
   "metadata": {},
   "outputs": [
    {
     "name": "stdout",
     "output_type": "stream",
     "text": [
      "Are the cluster centers the same? True\n",
      "Are the labels the same? True\n"
     ]
    }
   ],
   "source": [
    "threshold = 1e-5\n",
    "\n",
    "elkan_km = KMeans(algorithm='elkan', init=sPoints, n_clusters=cl, tol=threshold, n_init=1).fit(points)\n",
    "full_km = KMeans(algorithm='full', init=sPoints, n_clusters=cl, tol=threshold, n_init=1).fit(points)\n",
    "\n",
    "print('Are the cluster centers the same?', np.allclose(elkan_km.cluster_centers_, full_km.cluster_centers_))\n",
    "print('Are the labels the same?', np.array_equal(elkan_km.labels_, full_km.labels_))"
   ]
  },
  {
   "cell_type": "markdown",
   "metadata": {},
   "source": [
    "Therefore, if the results are different, the problem may be in the too big \"tol\" parameter. As a result, one of the algorithms stops before the other. Try to reduce the \"tol\" parameter."
   ]
  },
  {
   "cell_type": "code",
   "execution_count": null,
   "metadata": {},
   "outputs": [],
   "source": []
  }
 ],
 "metadata": {
  "kernelspec": {
   "display_name": "Python 3",
   "language": "python",
   "name": "python3"
  },
  "language_info": {
   "codemirror_mode": {
    "name": "ipython",
    "version": 3
   },
   "file_extension": ".py",
   "mimetype": "text/x-python",
   "name": "python",
   "nbconvert_exporter": "python",
   "pygments_lexer": "ipython3",
   "version": "3.6.3"
  }
 },
 "nbformat": 4,
 "nbformat_minor": 2
}
